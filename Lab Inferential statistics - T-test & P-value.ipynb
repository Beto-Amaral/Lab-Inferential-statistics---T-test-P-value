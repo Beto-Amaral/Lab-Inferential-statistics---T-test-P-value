{
 "cells": [
  {
   "cell_type": "markdown",
   "metadata": {},
   "source": [
    "## Lab | Inferential statistics - T-test & P-value"
   ]
  },
  {
   "cell_type": "code",
   "execution_count": null,
   "metadata": {},
   "outputs": [],
   "source": [
    "\n",
    "import pandas as pd\n",
    "import numpy as np\n",
    "import math\n"
   ]
  },
  {
   "cell_type": "code",
   "execution_count": null,
   "metadata": {
    "scrolled": true
   },
   "outputs": [],
   "source": [
    "import codecs\n",
    "f = codecs.open(\"files_for_lab/machine.txt\", \"r\", \"utf-16\")"
   ]
  },
  {
   "cell_type": "code",
   "execution_count": null,
   "metadata": {},
   "outputs": [],
   "source": [
    "df=pd.read_csv(f, sep = \"\\t\")"
   ]
  },
  {
   "cell_type": "code",
   "execution_count": null,
   "metadata": {
    "scrolled": true
   },
   "outputs": [],
   "source": [
    "df"
   ]
  },
  {
   "cell_type": "code",
   "execution_count": null,
   "metadata": {},
   "outputs": [],
   "source": [
    "df.columns = ['New machine','Old machine']\n"
   ]
  },
  {
   "cell_type": "code",
   "execution_count": null,
   "metadata": {},
   "outputs": [],
   "source": [
    "\n",
    "n= len(df)\n",
    "n1=n\n",
    "n2=n\n",
    "sample_mean1= np.mean(df['New machine'])\n",
    "sample_mean2= np.mean(df['Old machine'])\n",
    "sample_std1=np.std(df['New machine'])\n",
    "sample_std2=np.std(df['Old machine'])"
   ]
  },
  {
   "cell_type": "code",
   "execution_count": null,
   "metadata": {},
   "outputs": [],
   "source": [
    "from scipy.stats import t\n",
    "# Using python to find the p value and critical value\n",
    "print(\"P value is: \", 1- t.cdf(statistic,n1+n2-2))\n",
    "print(\"Critical Value of z is: \", t.ppf(0.05, n1+n2-2)) #alpha is 0.05"
   ]
  },
  {
   "cell_type": "code",
   "execution_count": null,
   "metadata": {},
   "outputs": [],
   "source": [
    "if (1-t.cdf(statistic,n1+n2-2)) > 0.05:\n",
    "    print(\"Therefore we faild to reject the null hypothesis Ho\")"
   ]
  },
  {
   "cell_type": "markdown",
   "metadata": {},
   "source": [
    "## Therefore we faild to reject the null hypothesis Ho\n",
    "An additional problem (not mandatory): In this case we can't assume that the population variances are equal. Hence in this case we cannot pool the variances. Independent random samples of 17 sophomores and 13 juniors attending a large university yield the following data on grade point averages. Data is provided in the file files_for_lab/student_gpa.txt. At the 5% significance level, do the data provide sufficient evidence to conclude that the mean GPAs of sophomores and juniors at the university differ?\n",
    "\n",
    "Test statistics can be calculated as: link to the image - Test statistics calculation for Unpooled Variance Case\n",
    "\n",
    "Degrees of freedom is (n1-1)+(n2-1)."
   ]
  },
  {
   "cell_type": "code",
   "execution_count": null,
   "metadata": {},
   "outputs": [],
   "source": [
    "df2=pd.read_csv(\"files_for_lab/student_gpa.txt\", sep = \"\\t\")\n",
    "df2"
   ]
  },
  {
   "cell_type": "code",
   "execution_count": null,
   "metadata": {},
   "outputs": [],
   "source": [
    "df2.columns = ['Sophomores','Juniors']"
   ]
  },
  {
   "cell_type": "code",
   "execution_count": null,
   "metadata": {},
   "outputs": [],
   "source": [
    "sample_mean1= np.mean(df2['Sophomores'])\n",
    "sample_mean2= np.mean(df2['Juniors'])\n",
    "sample_std1=np.std(df2['Sophomores'])\n",
    "sample_std2=np.std(df2['Juniors'])\n",
    "n1= len(df2['Sophomores'])\n",
    "n2= len(df2['Juniors'])"
   ]
  },
  {
   "cell_type": "code",
   "execution_count": null,
   "metadata": {},
   "outputs": [],
   "source": [
    "statistic = (sample_mean1-sample_mean2)/(math.sqrt(((sample_std1**2)/n1)+(sample_std2**2)/n2))\n",
    "\n",
    "print(\"T Statistic is: \", statistic)"
   ]
  },
  {
   "cell_type": "code",
   "execution_count": null,
   "metadata": {},
   "outputs": [],
   "source": [
    "from scipy.stats import t\n",
    "# Using python to find the p value and critical value\n",
    "print(\"P value is: \", 1- t.cdf(statistic,n1+n2-2))\n",
    "print(\"Critical Value of z is: \", t.ppf(0.025, n1+n2-2)) #alpha is 0.05"
   ]
  },
  {
   "cell_type": "code",
   "execution_count": null,
   "metadata": {},
   "outputs": [],
   "source": [
    "if (1-t.cdf(statistic,n1+n2-2)) > 0.05:\n",
    "    print(\"Therefore we faild to reject the null hypothesis Ho\""
   ]
  }
 ],
 "metadata": {
  "kernelspec": {
   "display_name": "Python 3",
   "language": "python",
   "name": "python3"
  },
  "language_info": {
   "codemirror_mode": {
    "name": "ipython",
    "version": 3
   },
   "file_extension": ".py",
   "mimetype": "text/x-python",
   "name": "python",
   "nbconvert_exporter": "python",
   "pygments_lexer": "ipython3",
   "version": "3.8.5"
  }
 },
 "nbformat": 4,
 "nbformat_minor": 4
}
